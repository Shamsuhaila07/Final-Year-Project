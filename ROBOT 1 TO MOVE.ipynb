{
 "cells": [
  {
   "cell_type": "code",
   "execution_count": 1,
   "metadata": {},
   "outputs": [
    {
     "name": "stdout",
     "output_type": "stream",
     "text": [
      "Sending message to 170.20.10.3:5005\n",
      "Sent 12 bytes to 170.20.10.3\n",
      "Sending message to 170.20.10.3:5005\n",
      "Sent 12 bytes to 170.20.10.3\n",
      "Sending message to 170.20.10.3:5005\n",
      "Sent 12 bytes to 170.20.10.3\n",
      "Sending message to 170.20.10.3:5005\n",
      "Sent 12 bytes to 170.20.10.3\n",
      "Sending message to 170.20.10.3:5005\n",
      "Sent 12 bytes to 170.20.10.3\n",
      "Sending message to 170.20.10.3:5005\n",
      "Sent 12 bytes to 170.20.10.3\n",
      "Sending message to 170.20.10.3:5005\n",
      "Sent 12 bytes to 170.20.10.3\n",
      "Sending message to 170.20.10.3:5005\n",
      "Sent 12 bytes to 170.20.10.3\n",
      "Sending message to 170.20.10.3:5005\n",
      "Sent 12 bytes to 170.20.10.3\n",
      "Sending message to 170.20.10.3:5005\n",
      "Sent 12 bytes to 170.20.10.3\n",
      "Sending message to 170.20.10.3:5005\n",
      "Sent 12 bytes to 170.20.10.3\n",
      "Sending message to 170.20.10.3:5005\n",
      "Sent 12 bytes to 170.20.10.3\n",
      "Closing socket\n"
     ]
    },
    {
     "ename": "KeyboardInterrupt",
     "evalue": "",
     "output_type": "error",
     "traceback": [
      "\u001b[0;31m---------------------------------------------------------------------------\u001b[0m",
      "\u001b[0;31mKeyboardInterrupt\u001b[0m                         Traceback (most recent call last)",
      "\u001b[0;32m<ipython-input-1-bf4eeccad94f>\u001b[0m in \u001b[0;36m<module>\u001b[0;34m\u001b[0m\n\u001b[1;32m     23\u001b[0m \u001b[0;32mif\u001b[0m \u001b[0m__name__\u001b[0m \u001b[0;34m==\u001b[0m \u001b[0;34m\"__main__\"\u001b[0m\u001b[0;34m:\u001b[0m\u001b[0;34m\u001b[0m\u001b[0;34m\u001b[0m\u001b[0m\n\u001b[1;32m     24\u001b[0m     \u001b[0mserver_ip\u001b[0m \u001b[0;34m=\u001b[0m \u001b[0;34m'170.20.10.3'\u001b[0m  \u001b[0;31m# Robot IP address\u001b[0m\u001b[0;34m\u001b[0m\u001b[0;34m\u001b[0m\u001b[0m\n\u001b[0;32m---> 25\u001b[0;31m     \u001b[0mudp_client\u001b[0m\u001b[0;34m(\u001b[0m\u001b[0mserver_ip\u001b[0m\u001b[0;34m)\u001b[0m\u001b[0;34m\u001b[0m\u001b[0;34m\u001b[0m\u001b[0m\n\u001b[0m",
      "\u001b[0;32m<ipython-input-1-bf4eeccad94f>\u001b[0m in \u001b[0;36mudp_client\u001b[0;34m(server_ip, port, message_interval)\u001b[0m\n\u001b[1;32m     16\u001b[0m             \u001b[0mprint\u001b[0m\u001b[0;34m(\u001b[0m\u001b[0;34mf'Sent {sent} bytes to {server_ip}'\u001b[0m\u001b[0;34m)\u001b[0m\u001b[0;34m\u001b[0m\u001b[0;34m\u001b[0m\u001b[0m\n\u001b[1;32m     17\u001b[0m \u001b[0;34m\u001b[0m\u001b[0m\n\u001b[0;32m---> 18\u001b[0;31m             \u001b[0mtime\u001b[0m\u001b[0;34m.\u001b[0m\u001b[0msleep\u001b[0m\u001b[0;34m(\u001b[0m\u001b[0mmessage_interval\u001b[0m\u001b[0;34m)\u001b[0m  \u001b[0;31m# Wait for a specified interval before sending the next message\u001b[0m\u001b[0;34m\u001b[0m\u001b[0;34m\u001b[0m\u001b[0m\n\u001b[0m\u001b[1;32m     19\u001b[0m     \u001b[0;32mfinally\u001b[0m\u001b[0;34m:\u001b[0m\u001b[0;34m\u001b[0m\u001b[0;34m\u001b[0m\u001b[0m\n\u001b[1;32m     20\u001b[0m         \u001b[0mprint\u001b[0m\u001b[0;34m(\u001b[0m\u001b[0;34m'Closing socket'\u001b[0m\u001b[0;34m)\u001b[0m\u001b[0;34m\u001b[0m\u001b[0;34m\u001b[0m\u001b[0m\n",
      "\u001b[0;31mKeyboardInterrupt\u001b[0m: "
     ]
    }
   ],
   "source": [
    "import socket\n",
    "import time\n",
    "\n",
    "def udp_client(server_ip, port=5005, message_interval=5):\n",
    "    # Create a UDP socket\n",
    "    sock = socket.socket(socket.AF_INET, socket.SOCK_DGRAM)\n",
    "    \n",
    "    try:\n",
    "        while True:\n",
    "            server_address = (server_ip, port)\n",
    "            message = 'MOVE_FORWARD'  # Command to move forward\n",
    "            \n",
    "            print(f'Sending message to {server_ip}:{port}')\n",
    "            sent = sock.sendto(message.encode(), server_address)\n",
    "            \n",
    "            print(f'Sent {sent} bytes to {server_ip}')\n",
    "            \n",
    "            time.sleep(message_interval)  # Wait for a specified interval before sending the next message\n",
    "    finally:\n",
    "        print('Closing socket')\n",
    "        sock.close()\n",
    "\n",
    "if __name__ == \"__main__\":\n",
    "    server_ip = '170.20.10.3'  # Robot IP address\n",
    "    udp_client(server_ip)\n"
   ]
  },
  {
   "cell_type": "code",
   "execution_count": 1,
   "metadata": {},
   "outputs": [
    {
     "name": "stdout",
     "output_type": "stream",
     "text": [
      "Helo World\n"
     ]
    }
   ],
   "source": [
    "print(\"Helo World\")"
   ]
  },
  {
   "cell_type": "code",
   "execution_count": 2,
   "metadata": {},
   "outputs": [
    {
     "name": "stdout",
     "output_type": "stream",
     "text": [
      "Whatsupp\n"
     ]
    }
   ],
   "source": [
    "print(\"Whatsupp\")"
   ]
  },
  {
   "cell_type": "code",
   "execution_count": null,
   "metadata": {},
   "outputs": [],
   "source": []
  }
 ],
 "metadata": {
  "kernelspec": {
   "display_name": "Python 3",
   "language": "python",
   "name": "python3"
  },
  "language_info": {
   "codemirror_mode": {
    "name": "ipython",
    "version": 3
   },
   "file_extension": ".py",
   "mimetype": "text/x-python",
   "name": "python",
   "nbconvert_exporter": "python",
   "pygments_lexer": "ipython3",
   "version": "3.6.9"
  }
 },
 "nbformat": 4,
 "nbformat_minor": 2
}
