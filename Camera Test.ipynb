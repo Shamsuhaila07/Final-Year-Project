{
 "cells": [
  {
   "cell_type": "code",
   "execution_count": null,
   "id": "2ef835f1",
   "metadata": {},
   "outputs": [],
   "source": [
    "import cv2\n",
    "import ipywidgets as widgets\n",
    "import traitlets\n",
    "from IPython.display import display\n",
    "from jetcam.csi_camera import CSICamera\n",
    "from jetcam.utils import bgr8_to_jpeg\n",
    "import jetson_inference\n",
    "import jetson_utils\n",
    "import threading\n",
    "import time\n",
    "\n",
    "# Initialize the object detection network\n",
    "net = jetson_inference.detectNet(\"ssd-mobilenet-v2\", threshold=0.5)\n",
    "\n",
    "# Initialize the camera\n",
    "camera = CSICamera(width=224, height=224)\n",
    "camera.running = True\n",
    "\n",
    "# Create image preview widgets\n",
    "camera_widget = widgets.Image(width=camera.width, height=camera.height)\n",
    "traitlets.dlink((camera, 'value'), (camera_widget, 'value'), transform=bgr8_to_jpeg)\n",
    "\n",
    "def update_image():\n",
    "    while True:\n",
    "        # Capture and process the image from the camera\n",
    "        img = camera.value.copy()\n",
    "        img = cv2.cvtColor(img, cv2.COLOR_RGB2BGR)  # Convert to BGR format\n",
    "\n",
    "        # Convert image to CUDA format for detection\n",
    "        img_cuda = jetson_utils.cudaFromNumpy(img)\n",
    "        \n",
    "        # Perform object detection\n",
    "        detections = net.Detect(img_cuda)\n",
    "        img_cuda = jetson_utils.cudaToNumpy(img_cuda)\n",
    "        img = cv2.cvtColor(img_cuda, cv2.COLOR_BGR2RGB)  # Convert back to RGB format\n",
    "\n",
    "        # Draw detection results\n",
    "        for detection in detections:\n",
    "            x1, y1, x2, y2 = int(detection.Left), int(detection.Top), int(detection.Right), int(detection.Bottom)\n",
    "            label = net.GetClassDesc(detection.ClassID)\n",
    "            color = (0, 255, 0)  # Green color for bounding boxes\n",
    "            cv2.rectangle(img, (x1, y1), (x2, y2), color, 2)\n",
    "            cv2.putText(img, label, (x1, y1 - 10), cv2.FONT_HERSHEY_SIMPLEX, 0.5, color, 2)\n",
    "\n",
    "        # Update the image widget\n",
    "        camera_widget.value = bgr8_to_jpeg(img)\n",
    "\n",
    "        # Sleep for a short period to control the update rate\n",
    "        time.sleep(0.5)  # 100 milliseconds\n",
    "\n",
    "# Start the update thread\n",
    "update_thread = threading.Thread(target=update_image, daemon=True)\n",
    "update_thread.start()\n",
    "\n",
    "# Display the widgets\n",
    "display(camera_widget)\n"
   ]
  },
  {
   "cell_type": "code",
   "execution_count": null,
   "id": "3a8e7063",
   "metadata": {},
   "outputs": [],
   "source": []
  },
  {
   "cell_type": "code",
   "execution_count": null,
   "id": "0e001a37",
   "metadata": {},
   "outputs": [],
   "source": []
  }
 ],
 "metadata": {
  "kernelspec": {
   "display_name": "Python 3",
   "language": "python",
   "name": "python3"
  },
  "language_info": {
   "codemirror_mode": {
    "name": "ipython",
    "version": 3
   },
   "file_extension": ".py",
   "mimetype": "text/x-python",
   "name": "python",
   "nbconvert_exporter": "python",
   "pygments_lexer": "ipython3",
   "version": "3.6.9"
  }
 },
 "nbformat": 4,
 "nbformat_minor": 5
}
