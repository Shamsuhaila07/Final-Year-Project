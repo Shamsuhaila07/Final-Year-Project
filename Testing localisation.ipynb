{
 "cells": [
  {
   "cell_type": "code",
   "execution_count": 11,
   "metadata": {},
   "outputs": [
    {
     "name": "stdout",
     "output_type": "stream",
     "text": [
      "Start car... time = 0, Coordinate = (0,0)\n",
      "Time = 0.00 seconds, Coordinate = (51, 0)\n",
      "Time = 0.30 seconds, Coordinate = (52, 0)\n",
      "Time = 0.71 seconds, Coordinate = (53, 0)\n",
      "Time = 1.11 seconds, Coordinate = (54, 0)\n",
      "Time = 1.51 seconds, Coordinate = (55, 0)\n",
      "Time = 1.92 seconds, Coordinate = (56, 0)\n",
      "Time = 2.32 seconds, Coordinate = (57, 0)\n",
      "Time = 2.73 seconds, Coordinate = (58, 0)\n",
      "Time = 3.14 seconds, Coordinate = (59, 0)\n",
      "Time = 3.54 seconds, Coordinate = (60, 0)\n",
      "Time = 3.95 seconds, Coordinate = (61, 0)\n",
      "Time = 4.35 seconds, Coordinate = (62, 0)\n",
      "Time = 4.76 seconds, Coordinate = (63, 0)\n",
      "Stopping the car...\n"
     ]
    }
   ],
   "source": [
    "from jetracer.nvidia_racecar import NvidiaRacecar\n",
    "import time\n",
    "\n",
    "# Define the robot's speed (in cm/s)\n",
    "ROBOT_SPEED_CM_PER_S = 75  # Car speed in cm/s\n",
    "\n",
    "# Initialize starting coordinates\n",
    "current_x = 0\n",
    "current_y = 0\n",
    "\n",
    "# Track the last time when distance was measured\n",
    "last_time = time.time()\n",
    "\n",
    "car = NvidiaRacecar()\n",
    "car.throttle_gain = 1.0  # Adjust as needed\n",
    "\n",
    "def update_coordinates(total_distance):\n",
    "    \"\"\"\n",
    "    Update the robot's coordinates based on the total distance traveled.\n",
    "    Every 30 cm of movement increases the x-coordinate by 1 unit.\n",
    "    \"\"\"\n",
    "    global current_x\n",
    "\n",
    "    # Calculate the number of 30 cm segments traveled\n",
    "    segments = int(total_distance // 30)\n",
    "\n",
    "    # Update the x-coordinate based on the number of segments\n",
    "    current_x = segments\n",
    "\n",
    "    return current_x, current_y\n",
    "\n",
    "def measure_distance():\n",
    "    \"\"\"\n",
    "    Measure the distance traveled using dead reckoning.\n",
    "    The distance is calculated based on the elapsed time and the robot's speed.\n",
    "    \"\"\"\n",
    "    global last_time\n",
    "\n",
    "    # Get the current time\n",
    "    current_time = time.time()\n",
    "    \n",
    "    # Calculate the time elapsed since the last measurement\n",
    "    elapsed_time = current_time - last_time\n",
    "    \n",
    "    # Calculate the distance traveled\n",
    "    distance_traveled = ROBOT_SPEED_CM_PER_S * elapsed_time\n",
    "    \n",
    "    # Update the last measurement time\n",
    "    last_time = current_time\n",
    "    \n",
    "    return distance_traveled\n",
    "\n",
    "def move_forward(throttle=-0.8, duration=5):\n",
    "    \"\"\"\n",
    "    Move the robot forward with the given throttle for a specified duration.\n",
    "    \"\"\"\n",
    "    global last_time\n",
    "\n",
    "    print(\"Start car... time = 0, Coordinate = (0,0)\")\n",
    "    car.throttle = throttle\n",
    "    \n",
    "    # Record the start time\n",
    "    start_time = time.time()\n",
    "    \n",
    "    # Distance traveled accumulator\n",
    "    total_distance = 0\n",
    "    \n",
    "    # Initial coordinates\n",
    "    last_coordinate_x = 0\n",
    "\n",
    "    while time.time() - start_time < duration:\n",
    "        # Measure distance traveled\n",
    "        distance = measure_distance()\n",
    "        total_distance += distance\n",
    "        \n",
    "        # Update coordinates based on the total distance traveled\n",
    "        x, y = update_coordinates(total_distance)\n",
    "        \n",
    "        # Print the coordinates at specific intervals\n",
    "        if x != last_coordinate_x:\n",
    "            print(f\"Time = {time.time() - start_time:.2f} seconds, Coordinate = ({x}, {y})\")\n",
    "            last_coordinate_x = x\n",
    "        \n",
    "        # Sleep to simulate time passing and update frequency\n",
    "        time.sleep(0.1)  # Adjust sleep time as needed\n",
    "    \n",
    "    stop()\n",
    "\n",
    "def stop():\n",
    "    \"\"\"\n",
    "    Stop the robot by setting the throttle to 0.\n",
    "    \"\"\"\n",
    "    print(\"Stopping the car...\")\n",
    "    car.throttle = 0\n",
    "\n",
    "if __name__ == \"__main__\":\n",
    "    move_forward()  # Move forward for 5 seconds and update coordinates\n"
   ]
  },
  {
   "cell_type": "code",
   "execution_count": 1,
   "metadata": {},
   "outputs": [
    {
     "name": "stdout",
     "output_type": "stream",
     "text": [
      "hello world\n"
     ]
    }
   ],
   "source": [
    "print('hello world')"
   ]
  },
  {
   "cell_type": "code",
   "execution_count": null,
   "metadata": {},
   "outputs": [],
   "source": []
  }
 ],
 "metadata": {
  "kernelspec": {
   "display_name": "Python 3",
   "language": "python",
   "name": "python3"
  },
  "language_info": {
   "codemirror_mode": {
    "name": "ipython",
    "version": 3
   },
   "file_extension": ".py",
   "mimetype": "text/x-python",
   "name": "python",
   "nbconvert_exporter": "python",
   "pygments_lexer": "ipython3",
   "version": "3.6.9"
  }
 },
 "nbformat": 4,
 "nbformat_minor": 2
}
