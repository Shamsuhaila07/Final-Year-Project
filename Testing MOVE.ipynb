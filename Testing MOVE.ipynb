{
 "cells": [
  {
   "cell_type": "code",
   "execution_count": 10,
   "metadata": {},
   "outputs": [
    {
     "name": "stdout",
     "output_type": "stream",
     "text": [
      "Moving forward with increased throttle...\n",
      "Stopping the car...\n"
     ]
    }
   ],
   "source": [
    "from jetracer.nvidia_racecar import NvidiaRacecar\n",
    "import time\n",
    "\n",
    "# Initialize the car\n",
    "car = NvidiaRacecar()\n",
    "\n",
    "# Increase throttle gain for more power\n",
    "car.throttle_gain = 1.0  # Adjust as needed\n",
    "\n",
    "# Function to move the car forward\n",
    "def move_forward(throttle=-0.8):  # Increase throttle\n",
    "    print(\"Moving forward with increased throttle...\")\n",
    "    car.throttle = throttle\n",
    "\n",
    "# Function to stop the car\n",
    "def stop():\n",
    "    print(\"Stopping the car...\")\n",
    "    car.throttle = 0\n",
    "\n",
    "if __name__ == \"__main__\":\n",
    "    move_forward()  # Try moving forward\n",
    "    time.sleep(0.5)   # Move for 5 seconds\n",
    "    stop()          # Then stop\n"
   ]
  },
  {
   "cell_type": "code",
   "execution_count": 5,
   "metadata": {},
   "outputs": [
    {
     "name": "stdout",
     "output_type": "stream",
     "text": [
      "Moving forward with increased throttle...\n",
      "New position: (6, 0), time = 2.03 seconds\n",
      "Stopping the car...\n",
      "Final position: (6, 0)\n"
     ]
    }
   ],
   "source": [
    "from jetracer.nvidia_racecar import NvidiaRacecar\n",
    "import time\n",
    "\n",
    "# Initialize the car\n",
    "car = NvidiaRacecar()\n",
    "\n",
    "# Increase throttle gain for more power\n",
    "car.throttle_gain = 1.0  # Adjust as needed\n",
    "\n",
    "# Car parameters\n",
    "throttle = -0.8\n",
    "speed_cm_per_second = 90  # Speed of the car in cm per second\n",
    "coordinate_distance = 30  # Distance between coordinates in cm\n",
    "\n",
    "# Initial position\n",
    "x, y = 0, 0\n",
    "start_time = time.time()\n",
    "\n",
    "# Function to move the car forward\n",
    "def move_forward(throttle=throttle):\n",
    "    print(\"Moving forward with increased throttle...\")\n",
    "    car.throttle = throttle\n",
    "\n",
    "# Function to stop the car\n",
    "def stop():\n",
    "    print(\"Stopping the car...\")\n",
    "    car.throttle = 0\n",
    "\n",
    "# Function to calculate the car's position\n",
    "def update_position():\n",
    "    global x, y, start_time\n",
    "    elapsed_time = time.time() - start_time\n",
    "    distance_traveled = speed_cm_per_second * elapsed_time\n",
    "    # Update position based on distance traveled\n",
    "    new_x = int(distance_traveled / coordinate_distance)\n",
    "    if new_x > x:\n",
    "        x = new_x\n",
    "        print(f\"New position: ({x}, {y}), time = {elapsed_time:.2f} seconds\")\n",
    "\n",
    "# Main loop\n",
    "if __name__ == \"__main__\":\n",
    "    move_forward()  # Start moving forward\n",
    "    \n",
    "    try:\n",
    "        while True:\n",
    "            update_position()  # Update position periodically\n",
    "            time.sleep(2)  # Check position every second\n",
    "            if x >= 6:  # Stop after reaching (3,0) coordinate\n",
    "                break\n",
    "    finally:\n",
    "        stop()  # Stop the car\n",
    "        print(f\"Final position: ({x}, {y})\")\n"
   ]
  },
  {
   "cell_type": "code",
   "execution_count": 9,
   "metadata": {},
   "outputs": [
    {
     "name": "stdout",
     "output_type": "stream",
     "text": [
      "Moving forward with increased throttle...\n",
      "Coordinate = (1, 0), time = 0.53 seconds\n",
      "Coordinate = (2, 0), time = 0.78 seconds\n",
      "Coordinate = (3, 0), time = 1.04 seconds\n",
      "Coordinate = (4, 0), time = 1.54 seconds\n",
      "Coordinate = (5, 0), time = 1.79 seconds\n",
      "Coordinate = (6, 0), time = 2.04 seconds\n",
      "Stopping the car...\n",
      "Final position: (6, 0)\n"
     ]
    }
   ],
   "source": [
    "from jetracer.nvidia_racecar import NvidiaRacecar\n",
    "import time\n",
    "\n",
    "# Initialize the car\n",
    "car = NvidiaRacecar()\n",
    "\n",
    "# Increase throttle gain for more power\n",
    "car.throttle_gain = 1.0  # Adjust as needed\n",
    "\n",
    "# Car parameters\n",
    "throttle = -0.8\n",
    "speed_cm_per_second = 90  # Speed of the car in cm per second\n",
    "coordinate_distance = 30  # Distance between coordinates in cm\n",
    "\n",
    "# Initial position\n",
    "x, y = 0, 0\n",
    "start_time = time.time()\n",
    "last_time_reported = 0  # Last time a coordinate was reported\n",
    "\n",
    "# Function to move the car forward\n",
    "def move_forward(throttle=throttle):\n",
    "    print(\"Moving forward with increased throttle...\")\n",
    "    car.throttle = throttle\n",
    "\n",
    "# Function to stop the car\n",
    "def stop():\n",
    "    print(\"Stopping the car...\")\n",
    "    car.throttle = 0\n",
    "\n",
    "# Function to calculate and update the car's position\n",
    "def update_position():\n",
    "    global x, y, start_time, last_time_reported\n",
    "    elapsed_time = time.time() - start_time\n",
    "    distance_traveled = speed_cm_per_second * elapsed_time\n",
    "    \n",
    "    # Determine new x position\n",
    "    new_x = int(distance_traveled / coordinate_distance)\n",
    "    \n",
    "    # Report time at each new coordinate\n",
    "    if new_x > x:\n",
    "        x = new_x\n",
    "        print(f\"Coordinate = ({x}, {y}), time = {elapsed_time:.2f} seconds\")\n",
    "        last_time_reported = elapsed_time\n",
    "\n",
    "# Main loop\n",
    "if __name__ == \"__main__\":\n",
    "    move_forward()  # Start moving forward\n",
    "    \n",
    "    try:\n",
    "        while True:\n",
    "            update_position()  # Update position periodically\n",
    "            time.sleep(0.25)  # Check position every second\n",
    "            if x >= 6:  # Stop after reaching coordinate (3,0)\n",
    "                break\n",
    "    finally:\n",
    "        stop()  # Stop the car\n",
    "        print(f\"Final position: ({x}, {y})\")\n",
    "\n"
   ]
  },
  {
   "cell_type": "code",
   "execution_count": null,
   "metadata": {},
   "outputs": [],
   "source": []
  }
 ],
 "metadata": {
  "kernelspec": {
   "display_name": "Python 3",
   "language": "python",
   "name": "python3"
  },
  "language_info": {
   "codemirror_mode": {
    "name": "ipython",
    "version": 3
   },
   "file_extension": ".py",
   "mimetype": "text/x-python",
   "name": "python",
   "nbconvert_exporter": "python",
   "pygments_lexer": "ipython3",
   "version": "3.6.9"
  }
 },
 "nbformat": 4,
 "nbformat_minor": 2
}
